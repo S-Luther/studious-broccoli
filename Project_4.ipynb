{
 "cells": [
  {
   "cell_type": "code",
   "execution_count": 19,
   "metadata": {},
   "outputs": [],
   "source": [
    "import warnings\n",
    "warnings.filterwarnings('ignore')\n",
    "import pandas as pd\n",
    "import geopandas as gpd\n",
    "import numpy as np\n",
    "import matplotlib.pyplot as plt\n",
    "from ipyleaflet import Map, Marker, MarkerCluster\n",
    "from IPython.display import display, Markdown"
   ]
  },
  {
   "cell_type": "markdown",
   "metadata": {
    "vscode": {
     "languageId": "html"
    }
   },
   "source": [
    "<center>\n",
    "    <h1>\n",
    "    <strong>Project #4: Advanced Analysis</strong>\n",
    "    <br/>\n",
    "    </h1>\n",
    "    <h5>\n",
    "        <strong>Collaborators</strong>: Erik F, Rusty B, Sam L<br/><br/>\n",
    "    </h5>\n",
    "</center>\n",
    "    <h5>\n",
    "        Description: For our Project #4 we aimed to deliver an analysis describing the combative epicenters of the ongoing conflict in Ukraine, \n",
    "        then using our knowledge of these points generate locations for humanitarian efforts so they may serve the most people with minimal risk to their own facilities.\n",
    "        We accomplished this with ____, _______, and _______.\n",
    "    </h5>\n"
   ]
  },
  {
   "cell_type": "markdown",
   "metadata": {
    "vscode": {
     "languageId": "html"
    }
   },
   "source": [
    "<center><h2><strong>Data Sources</strong></h2></center>\n",
    "<ul>\n",
    "    <li>Source 1 Lorem ipsum dolor sit amet consectetur adipisicing elit. Debitis similique ab facilis libero quia deserunt quaerat omnis fugiat dolor eius inventore quas.</li>\n",
    "    <li>Source 2 Lorem ipsum dolor sit amet consectetur adipisicing elit. Ducimus quidem ut quod, reprehenderit, nostrum mollitia sapiente error ipsum eum totam officiis.</li>\n",
    "    <li>Source 3 Lorem ipsum dolor sit amet consectetur adipisicing elit. Cupiditate libero commodi nisi voluptates quod tempore tenetur facilis delectus incidunt recusandae.</li>\n",
    "    <li>Source 4 Lorem ipsum dolor sit amet consectetur adipisicing elit. Dolore veniam maxime qui nobis cumque possimus ab soluta consequuntur deleniti necessitatibus.</li>\n",
    "</ul>\n"
   ]
  },
  {
   "cell_type": "code",
   "execution_count": null,
   "metadata": {},
   "outputs": [],
   "source": [
    "#Reading and Cleaning Data\n",
    "acled_data = pd.read_csv('./ACLED_DATA_PREVIOUSYEAR.csv') \n",
    "gdf = gpd.GeoDataFrame(\n",
    "    acled_data, geometry=gpd.points_from_xy(acled_data.longitude, acled_data.latitude), crs=\"EPSG:4326\"\n",
    ")\n",
    "filtered_gdf = gdf[gdf['fatalities']>0]\n",
    "ua = gpd.read_file(\"./ua.json\")"
   ]
  },
  {
   "cell_type": "markdown",
   "metadata": {},
   "source": [
    "<center><h2><strong>Final Plot</strong></h2></center>"
   ]
  },
  {
   "cell_type": "code",
   "execution_count": null,
   "metadata": {},
   "outputs": [],
   "source": []
  },
  {
   "cell_type": "markdown",
   "metadata": {},
   "source": [
    "<center><h2><strong>Previous Iterations</strong></h2></center>"
   ]
  },
  {
   "cell_type": "code",
   "execution_count": null,
   "metadata": {},
   "outputs": [],
   "source": [
    "def maximum_coverage(demand_points, facility_locations, num_facilities, service_radius):\n",
    "    \"\"\"\n",
    "    Implements the maximum coverage algorithm.\n",
    "\n",
    "    Args:\n",
    "        demand_points: GeoDataFrame with demand points.\n",
    "        facility_locations: GeoDataFrame with candidate facility locations.\n",
    "        num_facilities: Number of facilities to select.\n",
    "        service_radius: Service radius around each facility.\n",
    "\n",
    "    Returns:\n",
    "        GeoDataFrame of selected facilities.\n",
    "    \"\"\"\n",
    "\n",
    "    selected_facilities = []\n",
    "    covered_demand = []\n",
    "\n",
    "    for _ in range(num_facilities):\n",
    "        max_coverage = 0\n",
    "        best_facility = None\n",
    "\n",
    "        for _, facility in facility_locations.iterrows():\n",
    "            if facility.geometry in selected_facilities:\n",
    "                continue\n",
    "\n",
    "            service_area = facility.geometry.buffer(service_radius)\n",
    "            covered = demand_points[demand_points.geometry.within(service_area)]\n",
    "            coverage = covered.shape[0]\n",
    "\n",
    "            if coverage > max_coverage:\n",
    "                max_coverage = coverage\n",
    "                best_facility = facility\n",
    "\n",
    "        if best_facility is not None:\n",
    "            selected_facilities.append(best_facility.geometry)\n",
    "            covered_demand.extend(covered_demand)\n",
    "\n",
    "    return gpd.GeoDataFrame(geometry=selected_facilities, crs=\"EPSG:4326\")"
   ]
  },
  {
   "cell_type": "code",
   "execution_count": null,
   "metadata": {},
   "outputs": [],
   "source": [
    "points = []\n",
    "\n",
    "for index, row in roads.to_crs(filtered_gdf.crs).iterrows():    \n",
    "    distances = np.linspace(0, row['geometry'].length, 1)\n",
    "    points.extend([row['geometry'].interpolate(distance) for distance in distances])\n",
    "\n",
    "print(\"Total points: \" + str(len(points)))\n",
    "\n",
    "points_gdf = gpd.GeoDataFrame({'geometry': points})\n",
    "\n",
    "f, ax = plt.subplots()\n",
    "ax.title.set_text(\"1 Point per road\")\n",
    "points_gdf.plot(ax=ax, markersize=2, color=\"RED\")\n",
    "roads.to_crs(filtered_gdf.crs).plot(ax=ax,linewidth=0.2, edgecolor='black')\n",
    "\n",
    "places = maximum_coverage(filtered_gdf, points_gdf, 3, .1) # .05 for the service_radius is a radius of ~5km\n",
    "\n",
    "f, ax = plt.subplots()\n",
    "ax.title.set_text(\"maximum coverage points\")\n",
    "ua.plot(ax=ax)\n",
    "filtered_gdf.plot(ax=ax, color=\"gold\", markersize=2)\n",
    "places.to_crs(ua.crs).plot(ax=ax, color=\"red\", markersize=4)"
   ]
  },
  {
   "cell_type": "markdown",
   "metadata": {},
   "source": [
    "<center><h2><strong>Conclusions</strong></h2></center>"
   ]
  },
  {
   "cell_type": "code",
   "execution_count": null,
   "metadata": {},
   "outputs": [],
   "source": []
  },
  {
   "cell_type": "markdown",
   "metadata": {},
   "source": [
    "<center><h2><strong>Literature Engagements</strong></h2></center>"
   ]
  },
  {
   "cell_type": "code",
   "execution_count": null,
   "metadata": {},
   "outputs": [],
   "source": []
  }
 ],
 "metadata": {
  "kernelspec": {
   "display_name": "GeospatialPython",
   "language": "python",
   "name": "python3"
  },
  "language_info": {
   "codemirror_mode": {
    "name": "ipython",
    "version": 3
   },
   "file_extension": ".py",
   "mimetype": "text/x-python",
   "name": "python",
   "nbconvert_exporter": "python",
   "pygments_lexer": "ipython3",
   "version": "3.10.13"
  }
 },
 "nbformat": 4,
 "nbformat_minor": 4
}
