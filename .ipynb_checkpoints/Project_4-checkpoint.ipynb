{
 "cells": [
  {
   "cell_type": "code",
   "execution_count": 1,
   "metadata": {},
   "outputs": [],
   "source": [
    "import warnings\n",
    "warnings.filterwarnings('ignore')\n",
    "import pandas as pd\n",
    "import geopandas as gpd\n",
    "import numpy as np\n",
    "import matplotlib.pyplot as plt\n",
    "from ipyleaflet import Map, Marker, MarkerCluster\n"
   ]
  },
  {
   "cell_type": "code",
   "execution_count": null,
   "metadata": {},
   "outputs": [],
   "source": [
    "acled_data = pd.read_csv('./ACLED_DATA_PREVIOUSYEAR.csv') \n",
    "gdf = gpd.GeoDataFrame(\n",
    "    acled_data, geometry=gpd.points_from_xy(acled_data.longitude, acled_data.latitude), crs=\"EPSG:4326\"\n",
    ")\n",
    "\n",
    "m = Map(center=(48, 35), zoom=6)\n",
    "\n",
    "markers = []\n",
    "\n",
    "for index, row in acled_data.iterrows():\n",
    "    markers.append(Marker(location=(row[\"latitude\"], row[\"longitude\"])))\n",
    "\n",
    "marker_cluster = MarkerCluster(\n",
    "    markers=markers\n",
    ")\n",
    "\n",
    "m.add(marker_cluster);\n",
    "\n",
    "m"
   ]
  },
  {
   "cell_type": "code",
   "execution_count": null,
   "metadata": {},
   "outputs": [],
   "source": [
    "def maximum_coverage(demand_points, facility_locations, num_facilities, service_radius):\n",
    "    \"\"\"\n",
    "    Implements the maximum coverage algorithm.\n",
    "\n",
    "    Args:\n",
    "        demand_points: GeoDataFrame with demand points.\n",
    "        facility_locations: GeoDataFrame with candidate facility locations.\n",
    "        num_facilities: Number of facilities to select.\n",
    "        service_radius: Service radius around each facility.\n",
    "\n",
    "    Returns:\n",
    "        GeoDataFrame of selected facilities.\n",
    "    \"\"\"\n",
    "\n",
    "    selected_facilities = []\n",
    "    covered_demand = []\n",
    "\n",
    "    for _ in range(num_facilities):\n",
    "        max_coverage = 0\n",
    "        best_facility = None\n",
    "\n",
    "        for _, facility in facility_locations.iterrows():\n",
    "            if facility.geometry in selected_facilities:\n",
    "                continue\n",
    "\n",
    "            service_area = facility.geometry.buffer(service_radius)\n",
    "            covered = demand_points[demand_points.geometry.within(service_area)]\n",
    "            coverage = covered.shape[0]\n",
    "\n",
    "            if coverage > max_coverage:\n",
    "                max_coverage = coverage\n",
    "                best_facility = facility\n",
    "\n",
    "        if best_facility is not None:\n",
    "            selected_facilities.append(best_facility.geometry)\n",
    "            covered_demand.extend(covered_demand)\n",
    "\n",
    "    return gpd.GeoDataFrame(geometry=selected_facilities, crs=\"EPSG:4326\")"
   ]
  },
  {
   "cell_type": "code",
   "execution_count": null,
   "metadata": {},
   "outputs": [],
   "source": [
    "filtered_gdp = gdf[gdf['fatalities']>0]\n",
    "filtered_gdp.plot(column='fatalities', cmap='viridis', legend=True, markersize=1)"
   ]
  },
  {
   "cell_type": "code",
   "execution_count": null,
   "metadata": {},
   "outputs": [],
   "source": [
    "ua = gpd.read_file(\"./ua.json\")\n",
    "ua.plot()\n",
    "\n",
    "x, y = np.meshgrid(np.arange(22,40.0, .15), np.arange(45.0, 53.0, .15))\n",
    "x, y = x.flatten(), y.flatten()\n",
    "points = np.vstack((x,y)).T \n",
    "\n",
    "possible_points = gpd.GeoDataFrame(\n",
    "    points, geometry=gpd.points_from_xy(x, y), crs=\"EPSG:4326\"\n",
    ")\n",
    "clipped_points = possible_points.clip(ua) \n",
    "\n",
    "clipped_points.plot(markersize=2)\n",
    "\n",
    "f, ax = plt.subplots()\n",
    "ua.to_crs(filtered_gdp.crs).plot(ax=ax)\n",
    "filtered_gdp[filtered_gdp['event_date'].str.contains(\"September\")].plot(ax=ax, color=\"yellow\")\n",
    "f, ax = plt.subplots()\n",
    "ua.to_crs(filtered_gdp.crs).plot(ax=ax)\n",
    "filtered_gdp[filtered_gdp['event_date'].str.contains(\"October\")].plot(ax=ax, color=\"gold\")\n",
    "f, ax = plt.subplots()\n",
    "ua.to_crs(filtered_gdp.crs).plot(ax=ax)\n",
    "filtered_gdp[filtered_gdp['event_date'].str.contains(\"November\")].plot(ax=ax, color=\"orange\")\n",
    "\n"
   ]
  },
  {
   "cell_type": "code",
   "execution_count": null,
   "metadata": {},
   "outputs": [],
   "source": [
    "places = maximum_coverage(filtered_gdp[filtered_gdp['event_date'].str.contains(\"November\")], clipped_points, 14, .05)\n",
    "\n",
    "f, ax = plt.subplots()\n",
    "ua.plot(ax=ax)\n",
    "filtered_gdp[filtered_gdp['event_date'].str.contains(\"November\")].plot(ax=ax, color=\"gold\", markersize=2)\n",
    "places.to_crs(ua.crs).plot(ax=ax, color=\"red\")"
   ]
  },
  {
   "cell_type": "code",
   "execution_count": null,
   "metadata": {},
   "outputs": [],
   "source": [
    "places = maximum_coverage(filtered_gdp[filtered_gdp['event_date'].str.contains(\"October\")], clipped_points, 14, .05)\n",
    "\n",
    "f, ax = plt.subplots()\n",
    "ua.plot(ax=ax)\n",
    "filtered_gdp[filtered_gdp['event_date'].str.contains(\"October\")].plot(ax=ax, color=\"gold\", markersize=2)\n",
    "places.to_crs(ua.crs).plot(ax=ax, color=\"red\")"
   ]
  },
  {
   "cell_type": "code",
   "execution_count": null,
   "metadata": {},
   "outputs": [],
   "source": [
    "places = maximum_coverage(filtered_gdp[filtered_gdp['event_date'].str.contains(\"September\")], clipped_points, 14, .05)\n",
    "\n",
    "f, ax = plt.subplots()\n",
    "ua.plot(ax=ax)\n",
    "filtered_gdp[filtered_gdp['event_date'].str.contains(\"September\")].plot(ax=ax, color=\"gold\", markersize=2)\n",
    "places.to_crs(ua.crs).plot(ax=ax, color=\"red\")"
   ]
  },
  {
   "cell_type": "code",
   "execution_count": null,
   "metadata": {},
   "outputs": [],
   "source": [
    "places = maximum_coverage(filtered_gdp[filtered_gdp['event_date'].str.contains(\"August\")], clipped_points, 14, .05)\n",
    "\n",
    "f, ax = plt.subplots()\n",
    "ua.plot(ax=ax)\n",
    "filtered_gdp[filtered_gdp['event_date'].str.contains(\"August\")].plot(ax=ax, color=\"gold\", markersize=2)\n",
    "places.to_crs(ua.crs).plot(ax=ax, color=\"red\")"
   ]
  },
  {
   "cell_type": "code",
   "execution_count": null,
   "metadata": {},
   "outputs": [],
   "source": [
    "places = maximum_coverage(filtered_gdp[filtered_gdp['event_date'].str.contains(\"July\")], clipped_points, 14, .05)\n",
    "\n",
    "f, ax = plt.subplots()\n",
    "ua.plot(ax=ax)\n",
    "filtered_gdp[filtered_gdp['event_date'].str.contains(\"July\")].plot(ax=ax, color=\"gold\", markersize=2)\n",
    "places.to_crs(ua.crs).plot(ax=ax, color=\"red\")"
   ]
  },
  {
   "cell_type": "code",
   "execution_count": null,
   "metadata": {},
   "outputs": [],
   "source": [
    "places = maximum_coverage(filtered_gdp[filtered_gdp['event_date'].str.contains(\"June\")], clipped_points, 14, .05)\n",
    "\n",
    "f, ax = plt.subplots()\n",
    "ua.plot(ax=ax)\n",
    "filtered_gdp[filtered_gdp['event_date'].str.contains(\"June\")].plot(ax=ax, color=\"gold\", markersize=2)\n",
    "places.to_crs(ua.crs).plot(ax=ax, color=\"red\")"
   ]
  },
  {
   "cell_type": "code",
   "execution_count": null,
   "metadata": {},
   "outputs": [],
   "source": [
    "places = maximum_coverage(filtered_gdp[filtered_gdp['event_date'].str.contains(\"May\")], clipped_points, 14, .05)\n",
    "\n",
    "f, ax = plt.subplots()\n",
    "ua.plot(ax=ax)\n",
    "filtered_gdp[filtered_gdp['event_date'].str.contains(\"May\")].plot(ax=ax, color=\"gold\", markersize=2)\n",
    "places.to_crs(ua.crs).plot(ax=ax, color=\"red\")"
   ]
  },
  {
   "cell_type": "code",
   "execution_count": null,
   "metadata": {},
   "outputs": [],
   "source": [
    "places = maximum_coverage(filtered_gdp[filtered_gdp['event_date'].str.contains(\"April\")], clipped_points, 14, .05)\n",
    "\n",
    "f, ax = plt.subplots()\n",
    "ua.plot(ax=ax)\n",
    "filtered_gdp[filtered_gdp['event_date'].str.contains(\"April\")].plot(ax=ax, color=\"gold\", markersize=2)\n",
    "places.to_crs(ua.crs).plot(ax=ax, color=\"red\")"
   ]
  },
  {
   "cell_type": "code",
   "execution_count": null,
   "metadata": {},
   "outputs": [],
   "source": [
    "places = maximum_coverage(filtered_gdp[filtered_gdp['event_date'].str.contains(\"February\")], clipped_points, 14, .05)\n",
    "\n",
    "f, ax = plt.subplots()\n",
    "ua.plot(ax=ax)\n",
    "filtered_gdp[filtered_gdp['event_date'].str.contains(\"February\")].plot(ax=ax, color=\"gold\", markersize=2)\n",
    "places.to_crs(ua.crs).plot(ax=ax, color=\"red\")"
   ]
  },
  {
   "cell_type": "code",
   "execution_count": null,
   "metadata": {},
   "outputs": [],
   "source": [
    "places = maximum_coverage(filtered_gdp[filtered_gdp['event_date'].str.contains(\"January\")], clipped_points, 14, .05)\n",
    "\n",
    "f, ax = plt.subplots()\n",
    "ua.plot(ax=ax)\n",
    "filtered_gdp[filtered_gdp['event_date'].str.contains(\"January\")].plot(ax=ax, color=\"gold\", markersize=2)\n",
    "places.to_crs(ua.crs).plot(ax=ax, color=\"red\")"
   ]
  },
  {
   "cell_type": "code",
   "execution_count": null,
   "metadata": {},
   "outputs": [],
   "source": [
    "places = maximum_coverage(filtered_gdp[filtered_gdp['event_date'].str.contains(\"December\")], clipped_points, 14, .05)\n",
    "\n",
    "f, ax = plt.subplots()\n",
    "ua.plot(ax=ax)\n",
    "filtered_gdp[filtered_gdp['event_date'].str.contains(\"December\")].plot(ax=ax, color=\"gold\", markersize=2)\n",
    "places.to_crs(ua.crs).plot(ax=ax, color=\"red\")"
   ]
  },
  {
   "cell_type": "code",
   "execution_count": null,
   "metadata": {},
   "outputs": [],
   "source": []
  },
  {
   "cell_type": "code",
   "execution_count": null,
   "metadata": {},
   "outputs": [],
   "source": []
  },
  {
   "cell_type": "code",
   "execution_count": null,
   "metadata": {},
   "outputs": [],
   "source": []
  },
  {
   "cell_type": "code",
   "execution_count": null,
   "metadata": {},
   "outputs": [],
   "source": []
  }
 ],
 "metadata": {
  "kernelspec": {
   "display_name": "Python 3 (ipykernel)",
   "language": "python",
   "name": "python3"
  },
  "language_info": {
   "codemirror_mode": {
    "name": "ipython",
    "version": 3
   },
   "file_extension": ".py",
   "mimetype": "text/x-python",
   "name": "python",
   "nbconvert_exporter": "python",
   "pygments_lexer": "ipython3",
   "version": "3.10.13"
  }
 },
 "nbformat": 4,
 "nbformat_minor": 4
}
